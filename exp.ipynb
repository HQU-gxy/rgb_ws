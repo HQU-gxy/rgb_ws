{
 "cells": [
  {
   "cell_type": "code",
   "execution_count": 19,
   "metadata": {},
   "outputs": [
    {
     "data": {
      "text/plain": [
       "(91, 1, 10, 24)"
      ]
     },
     "metadata": {},
     "output_type": "display_data"
    }
   ],
   "source": [
    "import numpy as np\n",
    "from jaxtyping import Float, Int, jaxtyped\n",
    "from typeguard import typechecked, check_type\n",
    "from numpy.lib.stride_tricks import sliding_window_view\n",
    "\n",
    "NDArray = np.ndarray\n",
    "# create a 100 x 24 random array\n",
    "np.random.seed(0)\n",
    "xs = np.random.rand(100, 24)\n",
    "\n",
    "WINDOW_SIZE = 10\n",
    "X_slide = sliding_window_view(xs, (WINDOW_SIZE, 24))\n",
    "display(X_slide.shape)"
   ]
  },
  {
   "cell_type": "code",
   "execution_count": 20,
   "metadata": {},
   "outputs": [
    {
     "data": {
      "text/plain": [
       "(91, 10, 24)"
      ]
     },
     "metadata": {},
     "output_type": "display_data"
    }
   ],
   "source": [
    "# somehow a shape of (91, 1, 10, 24) appears\n",
    "# I expected a shape of (91, 10, 24)\n",
    "\n",
    "X_slide_r = X_slide.reshape(-1, WINDOW_SIZE, 24)\n",
    "display(X_slide_r.shape)"
   ]
  },
  {
   "cell_type": "code",
   "execution_count": 21,
   "metadata": {},
   "outputs": [],
   "source": [
    "@jaxtyped(typechecker=typechecked)\n",
    "def fill_slide_window(\n",
    "    xs: Float[NDArray, \"n 24\"] | Float[NDArray, \"10 24\"], x: Float[NDArray,\n",
    "                                                                   \"1 24\"]\n",
    ") -> Float[NDArray, \"n+1 24\"] | Float[NDArray, \"10 24\"]:\n",
    "    \"\"\"\n",
    "    Fill a sliding window with a new value.\n",
    "\n",
    "    @param xs: The current sliding window. The shape is (n, 24), which n is less than or equal WINDOW_SIZE.\n",
    "    @param x: The new value to add to the sliding window. The shape is (1, 24).\n",
    "\n",
    "    @return: The updated sliding window. The shape is (n+1, 24) if n < WINDOW_SIZE, otherwise (WINDOW_SIZE, 24).\n",
    "    \"\"\"\n",
    "    if xs.shape[0] < WINDOW_SIZE:\n",
    "        return np.vstack([xs, x])\n",
    "    elif xs.shape[0] == WINDOW_SIZE:\n",
    "        return np.vstack([xs[1:], x])\n",
    "    else:\n",
    "        raise ValueError(\n",
    "            f\"Input xs has invalid shape {xs.shape[0]}. which is not less than {WINDOW_SIZE}.\"\n",
    "        )"
   ]
  },
  {
   "cell_type": "code",
   "execution_count": 22,
   "metadata": {},
   "outputs": [],
   "source": [
    "@jaxtyped(typechecker=typechecked)\n",
    "def naive_slide_window(xs: Float[NDArray, \"n 24\"],\n",
    "                       size: int) -> Float[NDArray, \"n-{size}+1 {size} 24\"]:\n",
    "    \"\"\"\n",
    "    Generate slide window from a 2D array.\n",
    "    \n",
    "    I would say it might be less efficient than the numpy function `sliding_window_view`,\n",
    "    but a naive implementation to show how to use `fill_slide_window` function.\n",
    "\n",
    "    @param xs: The input 2D array. The shape is (n, 24).\n",
    "    @param size: The size of the slide window.\n",
    "    @return The slide window array. The shape is (n-size+1, size, 24).\n",
    "    \"\"\"\n",
    "    assert size <= xs.shape[\n",
    "        0], f\"sz should be less than or equal to {xs.shape[0]}\"\n",
    "    res = np.empty((xs.shape[0] - size + 1, size, 24))\n",
    "    st = np.empty((0, 24))\n",
    "    for i, row in zip(range(xs.shape[0]), xs):\n",
    "        st = fill_slide_window(st, np.array([row]))\n",
    "        if i >= size - 1:\n",
    "            assert st.shape == (size, 24)\n",
    "            res[i - size + 1] = st\n",
    "    return res"
   ]
  },
  {
   "cell_type": "code",
   "execution_count": 23,
   "metadata": {},
   "outputs": [],
   "source": [
    "X_naive_slide = naive_slide_window(xs, WINDOW_SIZE)"
   ]
  },
  {
   "cell_type": "code",
   "execution_count": 24,
   "metadata": {},
   "outputs": [
    {
     "data": {
      "text/plain": [
       "(91, 10, 24)"
      ]
     },
     "metadata": {},
     "output_type": "display_data"
    }
   ],
   "source": [
    "display(X_naive_slide.shape)"
   ]
  },
  {
   "cell_type": "code",
   "execution_count": 25,
   "metadata": {},
   "outputs": [],
   "source": [
    "assert X_naive_slide.all() == X_slide_r.all(), \"The result is not the same.\""
   ]
  }
 ],
 "metadata": {
  "kernelspec": {
   "display_name": "Python 3",
   "language": "python",
   "name": "python3"
  },
  "language_info": {
   "codemirror_mode": {
    "name": "ipython",
    "version": 3
   },
   "file_extension": ".py",
   "mimetype": "text/x-python",
   "name": "python",
   "nbconvert_exporter": "python",
   "pygments_lexer": "ipython3",
   "version": "3.10.13"
  }
 },
 "nbformat": 4,
 "nbformat_minor": 2
}
